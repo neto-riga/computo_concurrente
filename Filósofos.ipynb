{
 "cells": [
  {
   "cell_type": "markdown",
   "id": "8b00c5ed-0074-452a-a7f3-d98162a34d86",
   "metadata": {
    "slideshow": {
     "slide_type": "slide"
    }
   },
   "source": [
    "# Problema de los Filósofos\n",
    "### Legión Concurrencia"
   ]
  },
  {
   "cell_type": "code",
   "execution_count": 1,
   "id": "cd494873-3d97-4509-9167-f03cf42874b4",
   "metadata": {
    "slideshow": {
     "slide_type": "skip"
    }
   },
   "outputs": [],
   "source": [
    "import multiprocessing as mp\n",
    "import time\n",
    "import random"
   ]
  },
  {
   "cell_type": "markdown",
   "id": "4e57a03b",
   "metadata": {
    "slideshow": {
     "slide_type": "slide"
    }
   },
   "source": [
    "## Implementación 1"
   ]
  },
  {
   "cell_type": "code",
   "execution_count": 13,
   "id": "6f615d47",
   "metadata": {
    "slideshow": {
     "slide_type": "subslide"
    }
   },
   "outputs": [],
   "source": [
    "def toma_asiento(tenedor1, tenedor2, espacio, id_filo):\n",
    "    print(f\"Filosofo {id_filo} pensando\")\n",
    "    with espacio:\n",
    "        tenedor1.acquire()\n",
    "        tenedor2.acquire()\n",
    "        print(f\"Filósofo {id_filo} comiendo\")\n",
    "        time.sleep(random.randint(1, 4))\n",
    "        print(f\"\\tFilósofo {id_filo} terminando\")\n",
    "        tenedor1.release()\n",
    "        tenedor2.release()"
   ]
  },
  {
   "cell_type": "code",
   "execution_count": 15,
   "id": "1672f3af",
   "metadata": {
    "slideshow": {
     "slide_type": "subslide"
    }
   },
   "outputs": [
    {
     "name": "stdout",
     "output_type": "stream",
     "text": [
      "Filosofo 1 pensando\n",
      "Filósofo 1 comiendoFilosofo 2 pensando\n",
      "\n",
      "Filosofo 3 pensando\n",
      "Filósofo 3 comiendoFilosofo 4 pensando\n",
      "\n",
      "Filosofo 5 pensando\n",
      "\tFilósofo 1 terminando\n",
      "Filósofo 5 comiendo\n",
      "\tFilósofo 5 terminando\n",
      "\tFilósofo 3 terminando\n",
      "Filósofo 2 comiendoFilósofo 4 comiendo\n",
      "\n",
      "\tFilósofo 4 terminando\tFilósofo 2 terminando\n",
      "\n"
     ]
    }
   ],
   "source": [
    "if __name__ == '__main__':\n",
    "    num_filosofos = 5\n",
    "    tenedores = [mp.Semaphore() for _ in range(num_filosofos)]\n",
    "    espacio = mp.Semaphore(num_filosofos-1)\n",
    "    \n",
    "    turnos = []\n",
    "    for i in range(num_filosofos):\n",
    "        turnos.append(mp.Process(target=toma_asiento, \n",
    "                                 args=(tenedores[i],\n",
    "                                       tenedores[(i+1)%num_filosofos],\n",
    "                                       espacio, i+1)))\n",
    "    for turno in turnos:\n",
    "        turno.start()\n",
    "\n",
    "    for turno in turnos:\n",
    "        turno.join()"
   ]
  }
 ],
 "metadata": {
  "celltoolbar": "Slideshow",
  "kernelspec": {
   "display_name": "Python 3 (ipykernel)",
   "language": "python",
   "name": "python3"
  },
  "language_info": {
   "codemirror_mode": {
    "name": "ipython",
    "version": 3
   },
   "file_extension": ".py",
   "mimetype": "text/x-python",
   "name": "python",
   "nbconvert_exporter": "python",
   "pygments_lexer": "ipython3",
   "version": "3.10.6"
  }
 },
 "nbformat": 4,
 "nbformat_minor": 5
}
