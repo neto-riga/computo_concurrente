{
 "cells": [
  {
   "cell_type": "markdown",
   "metadata": {},
   "source": [
    "# Herraminetas en Python"
   ]
  },
  {
   "cell_type": "markdown",
   "metadata": {},
   "source": [
    "## Lock"
   ]
  },
  {
   "cell_type": "markdown",
   "metadata": {},
   "source": [
    "Comenzamos con los candados de exclusión mutua. Dentro del modulo multiprocessing tenemos `Lock()`\n",
    "Este cuenta con dos métodos:\n",
    "- `Lock.acquire()`: Para asegurar la exclusión mutua en una sección crítica\n",
    "  - Se le pueden pasar argumentos como `blocking` o `timeout`\n",
    "- `Lock.release()`: Para liberar el candado una vez terminada la sección crítica.\n",
    "\n",
    "Los procesos que comparten sección crítica necesitan pasar como un argumento al candado de su función objetivo. La función estándar para utilizar un candado es como sigue:\n",
    "```python\n",
    "# ccreación del candado\n",
    "lock = multiprocessing.Lock()\n",
    "# adquisición del candado (aquire)\n",
    "with lock:\n",
    "    # sección crítica\n",
    "```\n",
    "Esto asegura que se adquiere el candado y muestra de forma inmediata la sección crítica. También asegura que se libere incluso si hubo un error dentro de la sección crítica.\n",
    "\n",
    "El objeto tiene otros métodos como `locked()` para verificar si el candado está adquirido"
   ]
  },
  {
   "cell_type": "markdown",
   "metadata": {},
   "source": [
    "## RLock"
   ]
  },
  {
   "cell_type": "markdown",
   "metadata": {},
   "source": [
    "También se cuenta con el reentrant mutex `RLock()`, este es igual un candado de exclusión mutua, pero permite que un proceso adquiera el candado más de una vez."
   ]
  },
  {
   "cell_type": "markdown",
   "metadata": {},
   "source": [
    "## Monitor"
   ]
  },
  {
   "cell_type": "markdown",
   "metadata": {},
   "source": [
    "Variable de condición de proceso, también llamado monitor.\n",
    "Este es un candado combinado con una variable de condicción. Este se usa para alertar a otros procesos de alguna condición. Este se encuentra dentro de multiprocessing, se utiliza como `condition = multiprocessing.Condition()`.\n",
    "Se le puede pasar un candado como argumento para su constructor, pero no es recomendable `condition = multiprocessing.Condition(lock=my_lock)`\n",
    "\n",
    "También se puede adquirir y liberar, pero la mejor opción es un con un manejador de contexto, como:\n",
    "```python\n",
    "...\n",
    "# acquire the condition\n",
    "with condition:\n",
    "    # wait to be notified\n",
    "    condition.wait(timeout=10)\n",
    "```\n",
    "La función wait esperará hasta que sea notificado, o que llegue a su tiempo maximo si indicado con timeout.\n",
    "También tenemos `wait_for()` que permite esperar a que una función regrese un valor booleano.\n",
    "```python\n",
    "...\n",
    "# acquire the condition\n",
    "with condition:\n",
    "    # wait to be notified and a function to return true\n",
    "    condition.wait_for(all_data_collected)\n",
    "```\n",
    "\n",
    "Además, podemos notificar a otros procesos del estado de nuestro monitor con `notify()`, se le puede asignar un valor n que indique a cuantos notificar, o notificar a todos los procesos en espera con `notify_all()`.\n",
    "\n",
    "Como ejemplo tenemos:"
   ]
  },
  {
   "cell_type": "code",
   "execution_count": 1,
   "metadata": {},
   "outputs": [
    {
     "name": "stdout",
     "output_type": "stream",
     "text": [
      "Main process waiting for data...\n",
      "Child process sending notification...\n",
      "Main process all done\n"
     ]
    }
   ],
   "source": [
    "from time import sleep\n",
    "from multiprocessing import Process\n",
    "from multiprocessing import Condition\n",
    " \n",
    "# target function to prepare some work\n",
    "def task(condition):\n",
    "    # block for a moment\n",
    "    sleep(1)\n",
    "    # notify a waiting process that the work is done\n",
    "    print('Child process sending notification...', flush=True)\n",
    "    with condition:\n",
    "        condition.notify()\n",
    "    # do something else...\n",
    "    sleep(1)\n",
    " \n",
    "# entry point\n",
    "if __name__ == '__main__':\n",
    "    # create a condition\n",
    "    condition = Condition()\n",
    "    # wait to be notified that the data is ready\n",
    "    print('Main process waiting for data...')\n",
    "    with condition:\n",
    "        # start a new process to perform some work\n",
    "        worker = Process(target=task, args=(condition,))\n",
    "        worker.start()\n",
    "        # wait to be notified\n",
    "        condition.wait()\n",
    "    # we know the data is ready\n",
    "    print('Main process all done')"
   ]
  },
  {
   "cell_type": "markdown",
   "metadata": {},
   "source": [
    "## Semáforo"
   ]
  },
  {
   "cell_type": "markdown",
   "metadata": {},
   "source": [
    "Este permite un límite en el número de procesos o hilos que pueden adquirir un candado para la sección crítica. Es una extensión del candado de exclusión mutua que permite contar los procesos que pueden asquirir el candado antes de que procesos adicionales sean bloqueados.\n",
    "\n",
    "Tenemos la clase dentro de multiprocessing donde su constructor toma el límite del contador como un argumento, es decir `semaforo = multiprocessing.Semaphore(100)` tendríamos un semáforo con capacidad de 100 subprocesos. Así como en el candado este puede ser adquirido y liberado con los mismos métodos `acquire()` y `release()` respectivamente.\n"
   ]
  },
  {
   "cell_type": "markdown",
   "metadata": {},
   "source": []
  },
  {
   "cell_type": "code",
   "execution_count": 8,
   "metadata": {},
   "outputs": [
    {
     "data": {
      "text/plain": [
       "['_cleanup',\n",
       " '_make_methods',\n",
       " '_make_name',\n",
       " '_rand',\n",
       " '_semlock',\n",
       " 'acquire',\n",
       " 'get_value',\n",
       " 'release']"
      ]
     },
     "execution_count": 8,
     "metadata": {},
     "output_type": "execute_result"
    }
   ],
   "source": [
    "from multiprocessing import Semaphore\n",
    "\n",
    "[metodo for metodo in dir(Semaphore()) if metodo.startswith('__') is False]"
   ]
  },
  {
   "cell_type": "code",
   "execution_count": 9,
   "metadata": {},
   "outputs": [
    {
     "data": {
      "text/plain": [
       "['__class__',\n",
       " '__delattr__',\n",
       " '__dict__',\n",
       " '__dir__',\n",
       " '__doc__',\n",
       " '__eq__',\n",
       " '__format__',\n",
       " '__ge__',\n",
       " '__getattribute__',\n",
       " '__gt__',\n",
       " '__hash__',\n",
       " '__init__',\n",
       " '__init_subclass__',\n",
       " '__le__',\n",
       " '__lt__',\n",
       " '__module__',\n",
       " '__ne__',\n",
       " '__new__',\n",
       " '__reduce__',\n",
       " '__reduce_ex__',\n",
       " '__repr__',\n",
       " '__setattr__',\n",
       " '__sizeof__',\n",
       " '__str__',\n",
       " '__subclasshook__',\n",
       " '__weakref__']"
      ]
     },
     "execution_count": 9,
     "metadata": {},
     "output_type": "execute_result"
    }
   ],
   "source": [
    "class my_class():\n",
    "  def __init__(self):\n",
    "    self.a = 5\n",
    "\n",
    "dir(my_class)"
   ]
  }
 ],
 "metadata": {
  "kernelspec": {
   "display_name": "Python 3.10.4 ('venv': venv)",
   "language": "python",
   "name": "python3"
  },
  "language_info": {
   "codemirror_mode": {
    "name": "ipython",
    "version": 3
   },
   "file_extension": ".py",
   "mimetype": "text/x-python",
   "name": "python",
   "nbconvert_exporter": "python",
   "pygments_lexer": "ipython3",
   "version": "3.10.4"
  },
  "orig_nbformat": 4,
  "vscode": {
   "interpreter": {
    "hash": "63f003dfc62f5fc90060e9b945da21d1e5fe5b2d4a18209622a889eaaae931b0"
   }
  }
 },
 "nbformat": 4,
 "nbformat_minor": 2
}
