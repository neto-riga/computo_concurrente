{
 "cells": [
  {
   "cell_type": "code",
   "execution_count": 47,
   "metadata": {},
   "outputs": [
    {
     "name": "stdout",
     "output_type": "stream",
     "text": [
      "El número de personas es: 28194\n"
     ]
    }
   ],
   "source": [
    "import multiprocessing as mp\n",
    "\n",
    "def entrada(cuenta):\n",
    "  for i in range(20):\n",
    "    cuenta.value += 1\n",
    "\n",
    "if __name__ == '__main__':\n",
    "  cuenta = mp.Value('i', 0)\n",
    "  p1 = mp.Process(target=entrada, args=(cuenta,))\n",
    "  p2 = mp.Process(target=entrada, args=(cuenta,))\n",
    "\n",
    "  p1.start()\n",
    "  p2.start()\n",
    "\n",
    "  p1.join()\n",
    "  p2.join()\n",
    "\n",
    "  print(f\"El número de personas es: {cuenta.value}\")"
   ]
  },
  {
   "cell_type": "code",
   "execution_count": 6,
   "metadata": {},
   "outputs": [
    {
     "name": "stdout",
     "output_type": "stream",
     "text": [
      "El número de personas es: 4000000\n"
     ]
    }
   ],
   "source": [
    "import multiprocessing as mp\n",
    "import time\n",
    "\n",
    "def entrada1(cuenta, bandera):\n",
    "  while bandera.value:\n",
    "    time.sleep(10)\n",
    "  bandera.value = 1\n",
    "  for i in range(2000000):\n",
    "    cuenta.value += 1\n",
    "  bandera.value = 0\n",
    "\n",
    "def entrada2(cuenta, bandera):\n",
    "  while bandera.value:\n",
    "    time.sleep(10)\n",
    "  bandera.value = 1\n",
    "  for i in range(2000000):\n",
    "    cuenta.value += 1\n",
    "  bandera.value = 0\n",
    " \n",
    "if __name__ == '__main__':\n",
    "  cuenta = mp.Value('i', 0)\n",
    "  bandera = mp.Value('i', 0)\n",
    "  p1 = mp.Process(target=entrada1, args=(cuenta,bandera,))\n",
    "  p2 = mp.Process(target=entrada2, args=(cuenta,bandera,))\n",
    "\n",
    "  p1.start()\n",
    "  p2.start()\n",
    "\n",
    "  p1.join()\n",
    "  p2.join()\n",
    "\n",
    "  print(f\"El número de personas es: {cuenta.value}\")"
   ]
  },
  {
   "cell_type": "code",
   "execution_count": null,
   "metadata": {},
   "outputs": [],
   "source": []
  },
  {
   "cell_type": "code",
   "execution_count": null,
   "metadata": {},
   "outputs": [],
   "source": []
  },
  {
   "cell_type": "code",
   "execution_count": null,
   "outputs": [],
   "source": [
    "import numpy as np\n",
    "\n",
    "\n",
    "class Perceptron(object):\n",
    "  def __init__(self, eta=0.01, n_iter=50, random_state=1):\n",
    "    self.eta = eta\n",
    "    self.n_iter = n_iter\n",
    "    self.random_state = random_state\n",
    "\n",
    "  def fit(self, X, y):\n",
    "    rgen = np.random.RandomState(self.random_state)\n",
    "    if self.random_state is None:\n",
    "      self.w_ = np.zeros(1 + len(X[1]))\n",
    "    else:\n",
    "      self.w_ = rgen.normal(loc=0.0, scale=0.01, size=1 + X.shape[1])\n",
    "\n",
    "    self.errors_ = []\n",
    "    for _ in range(self.n_iter):\n",
    "      errors = 0\n",
    "      for xi, yi in zip(X, y):\n",
    "        update = self.eta * (yi - self.predict(xi))\n",
    "        self.w_[1:] += update * xi\n",
    "        self.w_[0] += update\n",
    "        errors += int(update != 0.0)\n",
    "        self.errors_.append(errors)\n",
    "    return self\n",
    "\n",
    "  def net_input(self, X):\n",
    "    return np.dot(X, self.w_[1:]) + self.w_[0]\n",
    "\n",
    "  def predict(self, X):\n",
    "    return np.where(self.net_input(X) >= 0.0, 1, -1)"
   ],
   "metadata": {
    "collapsed": false
   }
  }
 ],
 "metadata": {
  "kernelspec": {
   "display_name": "Python 3.10.4 ('venv': venv)",
   "language": "python",
   "name": "python3"
  },
  "language_info": {
   "codemirror_mode": {
    "name": "ipython",
    "version": 3
   },
   "file_extension": ".py",
   "mimetype": "text/x-python",
   "name": "python",
   "nbconvert_exporter": "python",
   "pygments_lexer": "ipython3",
   "version": "3.10.4"
  },
  "orig_nbformat": 4,
  "vscode": {
   "interpreter": {
    "hash": "63f003dfc62f5fc90060e9b945da21d1e5fe5b2d4a18209622a889eaaae931b0"
   }
  }
 },
 "nbformat": 4,
 "nbformat_minor": 2
}
