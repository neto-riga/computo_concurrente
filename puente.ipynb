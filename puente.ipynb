{
 "cells": [
  {
   "cell_type": "markdown",
   "metadata": {},
   "source": [
    "# Sincronización de Puente\n",
    "\n",
    "Ernesto Rivera Gálvez"
   ]
  },
  {
   "cell_type": "markdown",
   "metadata": {},
   "source": [
    "En una carretera de doble sentido llegamos a un punto donde hay un puente, en el puente solo cabe un carril y a lo  mucho puede tener 3 autos, de otro modo el puente cae."
   ]
  },
  {
   "cell_type": "code",
   "execution_count": 1,
   "metadata": {},
   "outputs": [],
   "source": [
    "import multiprocessing as mp\n",
    "import time\n",
    "import random"
   ]
  },
  {
   "cell_type": "markdown",
   "metadata": {},
   "source": [
    "Podemos ver el puente con tres casillas, pues máximo puede haber tres carros o se cae. Además, cada casilla solo puede estar ocupada por un solo auto, esto hace cada casilla una sección crítica. Finalmente, necesitamos saber en qué dirección están pasando los carros, pues no pueden pasar en ambas direcciones y si el puente está libre, para saber si es posible cambiar la dirección\n",
    "\n",
    "Definiendo esto en términos de sincronización, podemos ver cada casilla como un semáforo binario, el puente como un semáforo no binario de valor 3 y finalmente podemos ver la dirección como una bandera, que indique en qué dirección se está circulando y otra bandera para saber si está libre el puente\n",
    "\n",
    "Haremos una clase carro, únicamente para tener los valores de la dirección a la que va y un id\n",
    "\n",
    "Implementando lo anterior tenemos"
   ]
  },
  {
   "cell_type": "code",
   "execution_count": 37,
   "metadata": {},
   "outputs": [],
   "source": [
    "class Carro():\n",
    "  def __init__(self, id):\n",
    "    self.id = id\n",
    "    self.dir = random.randint(0,1)\n",
    "    self.no_pasado = True"
   ]
  },
  {
   "cell_type": "code",
   "execution_count": 30,
   "metadata": {},
   "outputs": [
    {
     "name": "stdout",
     "output_type": "stream",
     "text": [
      "0 0\n"
     ]
    }
   ],
   "source": [
    "# Ejemplo de un carrito\n",
    "carro = Carro(0)\n",
    "print(carro.id, carro.dir)"
   ]
  },
  {
   "cell_type": "code",
   "execution_count": 35,
   "metadata": {},
   "outputs": [],
   "source": [
    "def cruza_puente(dirección, ocupado, casillas, puente, carrito):\n",
    "  print(f\"Carrito {carrito.id} llegando en dirección \\\n",
    "    {'Norte' if carrito.dir else 'Sur'}\")\n",
    "\n",
    "  while carrito.no_pasado: # Mientras no haya pasado el puente\n",
    "    if not ocupado.value: # Si el puente está vacío\n",
    "      ocupado.value = 1\n",
    "      dirección.value = carrito.dir # El puente tendrá la dirección del carro\n",
    "\n",
    "    # Si el puente y el carro tienen la misma dirección\n",
    "    if carrito.dir == dirección.value:\n",
    "      print(f\"{carrito.id} por entrar al puente\")\n",
    "\n",
    "      with puente: # entramos al puente \n",
    "        for i, casilla in enumerate(casillas):\n",
    "          print(f\"{carrito.id} tratando de avanzar a casilla {i}\")\n",
    "\n",
    "          with casilla: # Entramos a la casilla\n",
    "            print(f\"\\t{carrito.id} entró a {i}\")\n",
    "            time.sleep(random.randint(0, 3)) # Tiempo en pasar el puente\n",
    "          print(f\"\\t{carrito.id} pasó la casilla {i}\")\n",
    "          \n",
    "        carrito.no_pasado = False # Después de pasar todas las casillas\n",
    "\n",
    "    if puente.get_value() == 3: # Si el puente está vacío\n",
    "      ocupado.value = 0 # Lo indicamos en su variable\n",
    "\n",
    "    time.sleep(random.randint(0, 3))"
   ]
  },
  {
   "cell_type": "code",
   "execution_count": 36,
   "metadata": {},
   "outputs": [
    {
     "name": "stdout",
     "output_type": "stream",
     "text": [
      "Carrito 0 llegando en dirección     Norte\n",
      "0 por entrar al puenteCarrito 1 llegando en dirección     Norte\n",
      "\n",
      "0 tratando de avanzar a casilla 01 por entrar al puente\n",
      "Carrito 2 llegando en dirección     Sur\t0 entró a 0\n",
      "\n",
      "\n",
      "Carrito 3 llegando en dirección     Sur\n",
      "1 tratando de avanzar a casilla 0\n",
      "\t1 entró a 0\t0 pasó la casilla 0\n",
      "\n",
      "0 tratando de avanzar a casilla 1\n",
      "\t0 entró a 1\n",
      "\t0 pasó la casilla 1\n",
      "0 tratando de avanzar a casilla 2\n",
      "\t0 entró a 2\n",
      "\t0 pasó la casilla 2\n",
      "\t1 pasó la casilla 0\n",
      "1 tratando de avanzar a casilla 1\n",
      "\t1 entró a 1\n",
      "\t1 pasó la casilla 1\n",
      "1 tratando de avanzar a casilla 2\n",
      "\t1 entró a 2\n",
      "\t1 pasó la casilla 2\n",
      "3 por entrar al puente\n",
      "3 tratando de avanzar a casilla 0\n",
      "\t3 entró a 0\n",
      "\t3 pasó la casilla 0\n",
      "3 tratando de avanzar a casilla 1\n",
      "\t3 entró a 1\n",
      "\t3 pasó la casilla 1\n",
      "3 tratando de avanzar a casilla 2\n",
      "\t3 entró a 2\n",
      "2 por entrar al puente\n",
      "2 tratando de avanzar a casilla 0\n",
      "\t2 entró a 0\n",
      "\t2 pasó la casilla 0\n",
      "2 tratando de avanzar a casilla 1\n",
      "\t2 entró a 1\n",
      "\t2 pasó la casilla 1\n",
      "2 tratando de avanzar a casilla 2\n",
      "\t2 entró a 2\t3 pasó la casilla 2\n",
      "\n",
      "\t2 pasó la casilla 2\n"
     ]
    }
   ],
   "source": [
    "if __name__ == '__main__':\n",
    "    num_carritos = 4\n",
    "    carritos = [Carro(i) for i in range(num_carritos)]\n",
    "    casillas = [mp.Semaphore() for _ in range(3)]\n",
    "    puente = mp.Semaphore(len(casillas))\n",
    "    ocupado = mp.Value('i', 0)\n",
    "    direccion = mp.Value('i', 0)\n",
    "\n",
    "    procesos = []\n",
    "    for i in range(num_carritos):\n",
    "        procesos.append(mp.Process(target=cruza_puente,\n",
    "                                   args=(direccion,\n",
    "                                        ocupado,\n",
    "                                        casillas,\n",
    "                                        puente,\n",
    "                                        carritos[i],)))\n",
    "    for proceso in procesos:\n",
    "        proceso.start()\n",
    "\n",
    "    for proceso in procesos:\n",
    "        proceso.join()"
   ]
  }
 ],
 "metadata": {
  "kernelspec": {
   "display_name": "Python 3.10.6 ('venv': venv)",
   "language": "python",
   "name": "python3"
  },
  "language_info": {
   "codemirror_mode": {
    "name": "ipython",
    "version": 3
   },
   "file_extension": ".py",
   "mimetype": "text/x-python",
   "name": "python",
   "nbconvert_exporter": "python",
   "pygments_lexer": "ipython3",
   "version": "3.10.6"
  },
  "orig_nbformat": 4,
  "vscode": {
   "interpreter": {
    "hash": "63f003dfc62f5fc90060e9b945da21d1e5fe5b2d4a18209622a889eaaae931b0"
   }
  }
 },
 "nbformat": 4,
 "nbformat_minor": 2
}
